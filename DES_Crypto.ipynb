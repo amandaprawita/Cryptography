{
  "nbformat": 4,
  "nbformat_minor": 0,
  "metadata": {
    "colab": {
      "provenance": []
    },
    "kernelspec": {
      "name": "python3",
      "display_name": "Python 3"
    },
    "language_info": {
      "name": "python"
    }
  },
  "cells": [
    {
      "cell_type": "markdown",
      "source": [
        "# **UTS KRIPTOGRAFI: ALGORITMA DES**"
      ],
      "metadata": {
        "id": "StNKj8cexFW0"
      }
    },
    {
      "cell_type": "markdown",
      "source": [
        "Nama  : Amanda Prawita Ningrum <br>\n",
        "NIM   : A11.2021.13456"
      ],
      "metadata": {
        "id": "Hnp9uDeVxOQM"
      }
    },
    {
      "cell_type": "markdown",
      "source": [
        "**input pesan yang akan di enkripsi**"
      ],
      "metadata": {
        "id": "Y7lF3hgxrlTr"
      }
    },
    {
      "cell_type": "code",
      "execution_count": null,
      "metadata": {
        "colab": {
          "base_uri": "https://localhost:8080/"
        },
        "id": "_00qntBqOViI",
        "outputId": "ec4c3828-2012-4e58-9270-04e81ef53000"
      },
      "outputs": [
        {
          "name": "stdout",
          "output_type": "stream",
          "text": [
            "Masukkan pesan: COMPUTER\n"
          ]
        }
      ],
      "source": [
        "# pertama input pesan yang akan digunakan untuk proses enkripsi berupa kata dengan panjang 64 bit atau terdiri dari 8 huruf\n",
        "plain_text = input(\"Masukkan pesan: \")"
      ]
    },
    {
      "cell_type": "markdown",
      "source": [
        "**input kunci untuk proses enrkipsi dan dekripsi menggunakan DES**"
      ],
      "metadata": {
        "id": "tthnF1Aorpjz"
      }
    },
    {
      "cell_type": "code",
      "source": [
        "# selanjutnya menginputkan key dalam hexadecimal untuk digunakan dalam proses enkripsi dan dekripsi dengan panjang 64 bit\n",
        "key1 = input(\"Masukkan kunci DES: \")"
      ],
      "metadata": {
        "colab": {
          "base_uri": "https://localhost:8080/"
        },
        "id": "3g1FvnyxOZA9",
        "outputId": "67885951-7393-45de-9357-3570fd26674a"
      },
      "execution_count": null,
      "outputs": [
        {
          "name": "stdout",
          "output_type": "stream",
          "text": [
            "Masukkan kunci DES: 133457799BBCDFF1\n"
          ]
        }
      ]
    },
    {
      "cell_type": "markdown",
      "source": [
        "**Konversi pesan menjadi biner**"
      ],
      "metadata": {
        "id": "183cO2yWr40M"
      }
    },
    {
      "cell_type": "code",
      "source": [
        "# selanjutnya melakukan konversi dari plaintext menjadi hexadecimal, pada codingan dibawah, plaintext yang berupa text atau string di encode lalu di konversi menjadi hexadecimal\n",
        "# dan diubah ke bentuk huruf besar semua dan ditampung ke dalam variabel plain text\n",
        "plain_text = plain_text.encode().hex().upper()\n",
        "print(\"Plaint Text dalam hexadecimal: \" + plain_text)\n",
        "\n",
        "# lalu melakukan proses konversi dari hexadecimal menjadi biner, mp digunakan untuk insialisasi array biner konversi sesuai angka dan bin sebagai variabel penampung hasil konversi\n",
        "mp = {'0': \"0000\",\n",
        "    '1': \"0001\",\n",
        "    '2': \"0010\",\n",
        "    '3': \"0011\",\n",
        "    '4': \"0100\",\n",
        "    '5': \"0101\",\n",
        "    '6': \"0110\",\n",
        "    '7': \"0111\",\n",
        "    '8': \"1000\",\n",
        "    '9': \"1001\",\n",
        "    'A': \"1010\",\n",
        "    'B': \"1011\",\n",
        "    'C': \"1100\",\n",
        "    'D': \"1101\",\n",
        "    'E': \"1110\",\n",
        "    'F': \"1111\"}\n",
        "bin = \"\"\n",
        "# jadi proses konversi akan dilakukan dengan menggunakan array mp untuk mengganti angka/huruf yang ada pada hasil konversi hexadecimal plaintext\n",
        "for i in range(len(plain_text)):\n",
        "    bin = bin + mp[plain_text[i]]\n",
        "\n",
        "print(\"Binary: \" + bin)\n",
        "\n",
        "# selanjutnya akan melakukan pembagian menjadi per 8 bit, pada codingan dibawah maka yang awalnya digabung semua akan dibagi menjadi per 8 bit\n",
        "separated_text = ' '.join([bin[i:i+8] for i in range(0, len(bin), 8)])\n",
        "print(\"Ciphertext: \" + separated_text)\n",
        "\n",
        "print(\"Panjang Plain Teks: \" + str(len(bin)))"
      ],
      "metadata": {
        "colab": {
          "base_uri": "https://localhost:8080/"
        },
        "id": "tQmLfyg9OmnZ",
        "outputId": "3738f54d-b238-4f64-ed46-955d2d47e62c"
      },
      "execution_count": null,
      "outputs": [
        {
          "output_type": "stream",
          "name": "stdout",
          "text": [
            "Plaint Text dalam hexadecimal: 434F4D5055544552\n",
            "Binary: 0100001101001111010011010101000001010101010101000100010101010010\n",
            "Ciphertext: 01000011 01001111 01001101 01010000 01010101 01010100 01000101 01010010\n",
            "Panjang Plain Teks: 64\n"
          ]
        }
      ]
    },
    {
      "cell_type": "markdown",
      "source": [
        "**inisalisasi tabel permutasi awal**"
      ],
      "metadata": {
        "id": "4nMWbVemr-s8"
      }
    },
    {
      "cell_type": "code",
      "source": [
        "# membuat tabel initial permutasi untuk nantinya digunakan dalam proses permutasi awal\n",
        "initial_perm = [58, 50, 42, 34, 26, 18, 10, 2,\n",
        "                60, 52, 44, 36, 28, 20, 12, 4,\n",
        "                62, 54, 46, 38, 30, 22, 14, 6,\n",
        "                64, 56, 48, 40, 32, 24, 16, 8,\n",
        "                57, 49, 41, 33, 25, 17, 9, 1,\n",
        "                59, 51, 43, 35, 27, 19, 11, 3,\n",
        "                61, 53, 45, 37, 29, 21, 13, 5,\n",
        "                63, 55, 47, 39, 31, 23, 15, 7]\n",
        "\n",
        "column_width = len(str(max(initial_perm)))\n",
        "\n",
        "print(\"Initial Permutation Table: \\n\")\n",
        "for i in range(0, len(initial_perm), 8):\n",
        "    row = initial_perm[i:i+8]\n",
        "    formatted_row = \" | \".join([f\"{num:>{column_width}}\" for num in row])\n",
        "    print(formatted_row)"
      ],
      "metadata": {
        "colab": {
          "base_uri": "https://localhost:8080/"
        },
        "id": "YWVh-X07OzJe",
        "outputId": "8b42e9e5-7ef5-41c9-fe58-3adbcaf3b20f"
      },
      "execution_count": null,
      "outputs": [
        {
          "output_type": "stream",
          "name": "stdout",
          "text": [
            "Initial Permutation Table: \n",
            "\n",
            "58 | 50 | 42 | 34 | 26 | 18 | 10 |  2\n",
            "60 | 52 | 44 | 36 | 28 | 20 | 12 |  4\n",
            "62 | 54 | 46 | 38 | 30 | 22 | 14 |  6\n",
            "64 | 56 | 48 | 40 | 32 | 24 | 16 |  8\n",
            "57 | 49 | 41 | 33 | 25 | 17 |  9 |  1\n",
            "59 | 51 | 43 | 35 | 27 | 19 | 11 |  3\n",
            "61 | 53 | 45 | 37 | 29 | 21 | 13 |  5\n",
            "63 | 55 | 47 | 39 | 31 | 23 | 15 |  7\n"
          ]
        }
      ]
    },
    {
      "cell_type": "markdown",
      "source": [
        "**melakukan proses permutasi awal**"
      ],
      "metadata": {
        "id": "1Q6A2E-JsE4M"
      }
    },
    {
      "cell_type": "code",
      "source": [
        "# melakukan proses permutasi dengan permutation sebagai variabel penampung, jadinya permutas akan dilakukan dengan cara mencari bit yang sesuai dengan urutan pada tabel\n",
        "# initial permutation yang tadi sudah di inisialisasikan, lalu akan digabungkan dan dibagi menjadi per 8 bit\n",
        "permutation = \"\"\n",
        "for i in range(0, 64):\n",
        "    permutation = permutation + bin[initial_perm[i] - 1]\n",
        "\n",
        "separated_text = ' '.join([permutation[i:i+8] for i in range(0, len(permutation), 8)])\n",
        "print(\"Teks hasil permutasi awal: \" + separated_text)"
      ],
      "metadata": {
        "colab": {
          "base_uri": "https://localhost:8080/"
        },
        "id": "P9agfzP_O5Rc",
        "outputId": "e14656c6-a7b0-4c44-e1ca-7c438a9dc7e0"
      },
      "execution_count": null,
      "outputs": [
        {
          "output_type": "stream",
          "name": "stdout",
          "text": [
            "Teks hasil permutasi awal: 11111111 10111000 01110110 01010111 00000000 00000000 00000110 10000011\n"
          ]
        }
      ]
    },
    {
      "cell_type": "markdown",
      "source": [
        "**melakukan proses pembagian teks hasil permutasi awal menjadi kiri dan kanan**"
      ],
      "metadata": {
        "id": "H5J5BPH-sIgQ"
      }
    },
    {
      "cell_type": "code",
      "source": [
        "# selanjutnya melakukan proses pembagian bit menjadi kiri dan kanan untuk nantinya digunakan dalam proses enkripsi\n",
        "left = permutation[0:32]\n",
        "right = permutation[32:64]\n",
        "\n",
        "kiri = ' '.join([left[i:i+8] for i in range(0, len(left), 8)])\n",
        "print(\"Kiri: \" + kiri)\n",
        "\n",
        "kanan = ' '.join([right[i:i+8] for i in range(0, len(right), 8)])\n",
        "print(\"Kanan: \" + kanan)"
      ],
      "metadata": {
        "colab": {
          "base_uri": "https://localhost:8080/"
        },
        "id": "Ie0Y4t2iO7n9",
        "outputId": "0f089628-8ae6-41bb-f044-2c1d28eeed36"
      },
      "execution_count": null,
      "outputs": [
        {
          "output_type": "stream",
          "name": "stdout",
          "text": [
            "Kiri: 11111111 10111000 01110110 01010111\n",
            "Kanan: 00000000 00000000 00000110 10000011\n"
          ]
        }
      ]
    },
    {
      "cell_type": "markdown",
      "source": [
        "**konversi kunci menjadi bentuk biner**"
      ],
      "metadata": {
        "id": "IdmFrpw-sP74"
      }
    },
    {
      "cell_type": "code",
      "source": [
        "# mp sebagai array yg berguna sebagai petunjuk untuk konversi hexa ke biner sesuai angka yang ada\n",
        "mp = {'0': \"0000\",\n",
        "      '1': \"0001\",\n",
        "      '2': \"0010\",\n",
        "      '3': \"0011\",\n",
        "      '4': \"0100\",\n",
        "      '5': \"0101\",\n",
        "      '6': \"0110\",\n",
        "      '7': \"0111\",\n",
        "      '8': \"1000\",\n",
        "      '9': \"1001\",\n",
        "      'A': \"1010\",\n",
        "      'B': \"1011\",\n",
        "      'C': \"1100\",\n",
        "      'D': \"1101\",\n",
        "      'E': \"1110\",\n",
        "      'F': \"1111\"}\n",
        "# binkey merupakan variabel penampung dari proses konversi\n",
        "binkey = \"\"\n",
        "# proses knversi akan mengganti nilai angka/huruf yang ada pada kunci dalam bentuk hexadecimal menjadi biner sesuai dengan array mp\n",
        "for i in range(len(key1)):\n",
        "    binkey = binkey + mp[key1[i]]\n",
        "\n",
        "# setelah itu lalu akan digabungkan dan dipecah menjadi per 8 bit\n",
        "binary = ' '.join([binkey[i:i+8] for i in range(0, len(binkey), 8)])\n",
        "print(\"Kunci biner: \" + binary)"
      ],
      "metadata": {
        "colab": {
          "base_uri": "https://localhost:8080/"
        },
        "id": "jgbTgM-DO9yP",
        "outputId": "b6fa6efd-7526-406b-d414-42504ecd45a5"
      },
      "execution_count": null,
      "outputs": [
        {
          "output_type": "stream",
          "name": "stdout",
          "text": [
            "Kunci biner: 00010011 00110100 01010111 01111001 10011011 10111100 11011111 11110001\n"
          ]
        }
      ]
    },
    {
      "cell_type": "markdown",
      "source": [
        "**melakukan proses inisialisasi tabel PC-1**"
      ],
      "metadata": {
        "id": "1wSrUWWPsTyH"
      }
    },
    {
      "cell_type": "code",
      "source": [
        "# membuat tabel PC-1 untuk nanti melakukan proses permutasi dengan kunci biner\n",
        "keyp = [57, 49, 41, 33, 25, 17, 9, 1,\n",
        "        58, 50, 42, 34, 26, 18, 10, 2,\n",
        "        59, 51, 43, 35, 27, 19, 11, 3,\n",
        "        60, 52, 44, 36, 63, 55, 47, 39,\n",
        "        31, 23, 15, 7, 62, 54, 46, 38,\n",
        "        30, 22, 14, 6, 61, 53, 45, 37,\n",
        "        29, 21, 13, 5, 28, 20, 12, 4]\n",
        "\n",
        "column_width = len(str(max(keyp)))\n",
        "\n",
        "print(\"PC-1 Table: \\n\")\n",
        "for i in range(0, len(keyp), 8):\n",
        "    row = keyp[i:i+8]\n",
        "    formatted_row = \" | \".join([f\"{num:>{column_width}}\" for num in row])\n",
        "    print(formatted_row)"
      ],
      "metadata": {
        "colab": {
          "base_uri": "https://localhost:8080/"
        },
        "id": "ihHi6kULPAWR",
        "outputId": "0bffa16c-bc93-4b74-811f-a31c23788f20"
      },
      "execution_count": null,
      "outputs": [
        {
          "output_type": "stream",
          "name": "stdout",
          "text": [
            "PC-1 Table: \n",
            "\n",
            "57 | 49 | 41 | 33 | 25 | 17 |  9 |  1\n",
            "58 | 50 | 42 | 34 | 26 | 18 | 10 |  2\n",
            "59 | 51 | 43 | 35 | 27 | 19 | 11 |  3\n",
            "60 | 52 | 44 | 36 | 63 | 55 | 47 | 39\n",
            "31 | 23 | 15 |  7 | 62 | 54 | 46 | 38\n",
            "30 | 22 | 14 |  6 | 61 | 53 | 45 | 37\n",
            "29 | 21 | 13 |  5 | 28 | 20 | 12 |  4\n"
          ]
        }
      ]
    },
    {
      "cell_type": "markdown",
      "source": [
        "**proses permutasi kunci biner dengan menggunakan tabel PC-1**"
      ],
      "metadata": {
        "id": "QNqCNf4FsYUB"
      }
    },
    {
      "cell_type": "code",
      "source": [
        "# proses permutasi dengan menggunakan PC-1, permutationkey merupakan variabel penampung untuk permutasi\n",
        "permutationkey = \"\"\n",
        "for i in range(0, 56):\n",
        "    # untuk prosesnya sama seperti permutasi awal yaitu mencari bit sesuai dengan tabel PC-1 untuk nanti dilakukan pergantian bit\n",
        "    permutationkey = permutationkey + binkey[keyp[i] - 1]\n",
        "\n",
        "# setelah selesai, maka akan melakukan penggabungan dan membagi menjadi per 8 bit\n",
        "separated_text = ' '.join([permutationkey[i:i+8] for i in range(0, len(permutationkey), 8)])\n",
        "print(\"Hasil permutasi PC-1: \" + separated_text)"
      ],
      "metadata": {
        "colab": {
          "base_uri": "https://localhost:8080/"
        },
        "id": "cHvNVqwrPDHI",
        "outputId": "55ca8c1f-d551-4bf4-de09-affb664bfc45"
      },
      "execution_count": null,
      "outputs": [
        {
          "output_type": "stream",
          "name": "stdout",
          "text": [
            "Hasil permutasi PC-1: 11110000 11001100 10101010 11110101 01010110 01100111 10001111\n"
          ]
        }
      ]
    },
    {
      "cell_type": "markdown",
      "source": [
        "**membagi hasil permutasi kunci biner menjadi bit kiri dan kanan**"
      ],
      "metadata": {
        "id": "ZT58iM8-siQN"
      }
    },
    {
      "cell_type": "code",
      "source": [
        "# selanjutnya akan melakukan proses pembbagian bit hasil permutasi kunci untuk nanti digunakan dalam pergeseran bit\n",
        "left1 = permutationkey[0:28]\n",
        "right1 = permutationkey[28:56]\n",
        "\n",
        "kiri1 = ' '.join([left1[i:i+7] for i in range(0, len(left1), 7)])\n",
        "print(\"Kiri: \" + kiri1)\n",
        "\n",
        "kanan1 = ' '.join([right1[i:i+7] for i in range(0, len(right1), 7)])\n",
        "print(\"Kanan: \" + kanan1)"
      ],
      "metadata": {
        "colab": {
          "base_uri": "https://localhost:8080/"
        },
        "id": "7GaCUv-UPIq9",
        "outputId": "6924b7f4-e866-43ce-c60a-0e15e325aa76"
      },
      "execution_count": null,
      "outputs": [
        {
          "output_type": "stream",
          "name": "stdout",
          "text": [
            "Kiri: 1111000 0110011 0010101 0101111\n",
            "Kanan: 0101010 1011001 1001111 0001111\n"
          ]
        }
      ]
    },
    {
      "cell_type": "markdown",
      "source": [
        "**melakukan proses inisialisasi tabel pergeseran bit**"
      ],
      "metadata": {
        "id": "3sYg657ZsnSu"
      }
    },
    {
      "cell_type": "code",
      "source": [
        "# selanjutnya akan digunakan tabel pergeseran untuk menggeser bit\n",
        "shift_table = [1, 1, 2, 2,\n",
        "               2, 2, 2, 2,\n",
        "               1, 2, 2, 2,\n",
        "               2, 2, 2, 1]\n",
        "\n",
        "column_width = len(str(max(shift_table)))\n",
        "\n",
        "print(\"Shift Table:\")\n",
        "for i in range(0, len(shift_table), 4):\n",
        "    row = shift_table[i:i+4]\n",
        "    formatted_row = \" | \".join([f\"{num:>{column_width}}\" for num in row])\n",
        "    print(formatted_row)"
      ],
      "metadata": {
        "colab": {
          "base_uri": "https://localhost:8080/"
        },
        "id": "WDILFBf7PXnt",
        "outputId": "3172ba6f-e476-4059-eb5a-d32ff6126bbe"
      },
      "execution_count": null,
      "outputs": [
        {
          "output_type": "stream",
          "name": "stdout",
          "text": [
            "Shift Table:\n",
            "1 | 1 | 2 | 2\n",
            "2 | 2 | 2 | 2\n",
            "1 | 2 | 2 | 2\n",
            "2 | 2 | 2 | 1\n"
          ]
        }
      ]
    },
    {
      "cell_type": "markdown",
      "source": [
        "**melakukan proses pergeseran bit pada bagian kiri dan kanan dari masing masing kunci biner yang didapatkan**"
      ],
      "metadata": {
        "id": "ZDycArvmsqsg"
      }
    },
    {
      "cell_type": "code",
      "source": [
        "# setelah itu, akan melakukan proses penggeseran bit, leftkey merupakan tempat untuk menampung hasil pergeseran key bit kiri kunci, sedangkan rightkey digunakan untuk menampung\n",
        "# hasil pergeseran key bit kanan\n",
        "def shift_left(k, nth_shifts):\n",
        "    s = \"\"\n",
        "    for i in range(nth_shifts):\n",
        "        for j in range(1, len(k)):\n",
        "            s = s + k[j]\n",
        "        s = s + k[0]\n",
        "        k = s\n",
        "        s = \"\"\n",
        "    return k\n",
        "\n",
        "left1 = permutationkey[0:28]\n",
        "right1 = permutationkey[28:56]\n",
        "\n",
        "for i in range(0, 16):\n",
        "    leftkey = shift_left(left1, shift_table[i])\n",
        "    rightkey = shift_left(right1, shift_table[i])\n",
        "\n",
        "    print(\"Hasil pergeseran kiri \" + str(i) + \" yaitu: \" + leftkey)\n",
        "    print(\"Hasil pergeseran kanan \" + str(i) + \" yaitu: \" + rightkey)\n",
        "\n",
        "    left1 = leftkey\n",
        "    right1 = rightkey\n",
        "\n",
        "    # setelah dilakukan pergeseran bit kiri dan kanan, maka akan dilakukan proses peggabungan bit tersebut hingga menghasilkan 16 kunci biner\n",
        "    combine_str = left1 + right1\n",
        "    print(\"Hasil combine \" + str(i) + \" yaitu: \" + combine_str)\n",
        "    print(\"\\n\")"
      ],
      "metadata": {
        "colab": {
          "base_uri": "https://localhost:8080/"
        },
        "id": "DwXlerwFPbCU",
        "outputId": "029b474c-2183-4c85-97d5-818729d02597"
      },
      "execution_count": null,
      "outputs": [
        {
          "output_type": "stream",
          "name": "stdout",
          "text": [
            "Hasil pergeseran kiri 0 yaitu: 1110000110011001010101011111\n",
            "Hasil pergeseran kanan 0 yaitu: 1010101011001100111100011110\n",
            "Hasil combine 0 yaitu: 11100001100110010101010111111010101011001100111100011110\n",
            "\n",
            "\n",
            "Hasil pergeseran kiri 1 yaitu: 1100001100110010101010111111\n",
            "Hasil pergeseran kanan 1 yaitu: 0101010110011001111000111101\n",
            "Hasil combine 1 yaitu: 11000011001100101010101111110101010110011001111000111101\n",
            "\n",
            "\n",
            "Hasil pergeseran kiri 2 yaitu: 0000110011001010101011111111\n",
            "Hasil pergeseran kanan 2 yaitu: 0101011001100111100011110101\n",
            "Hasil combine 2 yaitu: 00001100110010101010111111110101011001100111100011110101\n",
            "\n",
            "\n",
            "Hasil pergeseran kiri 3 yaitu: 0011001100101010101111111100\n",
            "Hasil pergeseran kanan 3 yaitu: 0101100110011110001111010101\n",
            "Hasil combine 3 yaitu: 00110011001010101011111111000101100110011110001111010101\n",
            "\n",
            "\n",
            "Hasil pergeseran kiri 4 yaitu: 1100110010101010111111110000\n",
            "Hasil pergeseran kanan 4 yaitu: 0110011001111000111101010101\n",
            "Hasil combine 4 yaitu: 11001100101010101111111100000110011001111000111101010101\n",
            "\n",
            "\n",
            "Hasil pergeseran kiri 5 yaitu: 0011001010101011111111000011\n",
            "Hasil pergeseran kanan 5 yaitu: 1001100111100011110101010101\n",
            "Hasil combine 5 yaitu: 00110010101010111111110000111001100111100011110101010101\n",
            "\n",
            "\n",
            "Hasil pergeseran kiri 6 yaitu: 1100101010101111111100001100\n",
            "Hasil pergeseran kanan 6 yaitu: 0110011110001111010101010110\n",
            "Hasil combine 6 yaitu: 11001010101011111111000011000110011110001111010101010110\n",
            "\n",
            "\n",
            "Hasil pergeseran kiri 7 yaitu: 0010101010111111110000110011\n",
            "Hasil pergeseran kanan 7 yaitu: 1001111000111101010101011001\n",
            "Hasil combine 7 yaitu: 00101010101111111100001100111001111000111101010101011001\n",
            "\n",
            "\n",
            "Hasil pergeseran kiri 8 yaitu: 0101010101111111100001100110\n",
            "Hasil pergeseran kanan 8 yaitu: 0011110001111010101010110011\n",
            "Hasil combine 8 yaitu: 01010101011111111000011001100011110001111010101010110011\n",
            "\n",
            "\n",
            "Hasil pergeseran kiri 9 yaitu: 0101010111111110000110011001\n",
            "Hasil pergeseran kanan 9 yaitu: 1111000111101010101011001100\n",
            "Hasil combine 9 yaitu: 01010101111111100001100110011111000111101010101011001100\n",
            "\n",
            "\n",
            "Hasil pergeseran kiri 10 yaitu: 0101011111111000011001100101\n",
            "Hasil pergeseran kanan 10 yaitu: 1100011110101010101100110011\n",
            "Hasil combine 10 yaitu: 01010111111110000110011001011100011110101010101100110011\n",
            "\n",
            "\n",
            "Hasil pergeseran kiri 11 yaitu: 0101111111100001100110010101\n",
            "Hasil pergeseran kanan 11 yaitu: 0001111010101010110011001111\n",
            "Hasil combine 11 yaitu: 01011111111000011001100101010001111010101010110011001111\n",
            "\n",
            "\n",
            "Hasil pergeseran kiri 12 yaitu: 0111111110000110011001010101\n",
            "Hasil pergeseran kanan 12 yaitu: 0111101010101011001100111100\n",
            "Hasil combine 12 yaitu: 01111111100001100110010101010111101010101011001100111100\n",
            "\n",
            "\n",
            "Hasil pergeseran kiri 13 yaitu: 1111111000011001100101010101\n",
            "Hasil pergeseran kanan 13 yaitu: 1110101010101100110011110001\n",
            "Hasil combine 13 yaitu: 11111110000110011001010101011110101010101100110011110001\n",
            "\n",
            "\n",
            "Hasil pergeseran kiri 14 yaitu: 1111100001100110010101010111\n",
            "Hasil pergeseran kanan 14 yaitu: 1010101010110011001111000111\n",
            "Hasil combine 14 yaitu: 11111000011001100101010101111010101010110011001111000111\n",
            "\n",
            "\n",
            "Hasil pergeseran kiri 15 yaitu: 1111000011001100101010101111\n",
            "Hasil pergeseran kanan 15 yaitu: 0101010101100110011110001111\n",
            "Hasil combine 15 yaitu: 11110000110011001010101011110101010101100110011110001111\n",
            "\n",
            "\n"
          ]
        }
      ]
    },
    {
      "cell_type": "markdown",
      "source": [
        "**melakukan inisialisasi tabel PC-2**"
      ],
      "metadata": {
        "id": "2fM7b2LntVJ4"
      }
    },
    {
      "cell_type": "code",
      "source": [
        "# membuat tabel pc-2 untuk melakukan permutasi terhadap kunci yang sudah didapatkan\n",
        "key_comp = [14, 17, 11, 24, 1, 5, 3, 28,\n",
        "            15, 6, 21, 10, 23, 19, 12, 4,\n",
        "            26, 8, 16, 7, 27, 20, 13, 2,\n",
        "            41, 52, 31, 37, 47, 55, 30, 40,\n",
        "            51, 45, 33, 48, 44, 49, 39, 56,\n",
        "            34, 53, 46, 42, 50, 36, 29, 32]\n",
        "\n",
        "print(\"PC- 2 Table: \\n\")\n",
        "\n",
        "for i in range(0, len(key_comp), 8):\n",
        "    row = key_comp[i:i+8]\n",
        "    print(\" | \".join(\"{:2}\".format(item) for item in row))"
      ],
      "metadata": {
        "colab": {
          "base_uri": "https://localhost:8080/"
        },
        "id": "8svz0iNcPrRO",
        "outputId": "3c52bfa8-cae3-4e57-c8ac-363984fa08a5"
      },
      "execution_count": null,
      "outputs": [
        {
          "output_type": "stream",
          "name": "stdout",
          "text": [
            "PC- 2 Table: \n",
            "\n",
            "14 | 17 | 11 | 24 |  1 |  5 |  3 | 28\n",
            "15 |  6 | 21 | 10 | 23 | 19 | 12 |  4\n",
            "26 |  8 | 16 |  7 | 27 | 20 | 13 |  2\n",
            "41 | 52 | 31 | 37 | 47 | 55 | 30 | 40\n",
            "51 | 45 | 33 | 48 | 44 | 49 | 39 | 56\n",
            "34 | 53 | 46 | 42 | 50 | 36 | 29 | 32\n"
          ]
        }
      ]
    },
    {
      "cell_type": "markdown",
      "source": [
        "**melakukan permutasi dari kunci hasil pergeseran bit dengan tabel PC-2**"
      ],
      "metadata": {
        "id": "wKM8jTJmtbTY"
      }
    },
    {
      "cell_type": "code",
      "source": [
        "# selanjutnya melakukan proses permutasi pada 16 kunci hasil pergeseran bit, variabel rkb akan digunakan untuk menampung hasil permutasi dari kunci yang sudah didapatkan\n",
        "rkb = []\n",
        "\n",
        "for i in range(0, 16):\n",
        "    leftkey = shift_left(left1, shift_table[i])\n",
        "    rightkey = shift_left(right1, shift_table[i])\n",
        "\n",
        "    left1 = leftkey\n",
        "    right1 = rightkey\n",
        "\n",
        "    combine_str = left1 + right1\n",
        "\n",
        "    # proses permutasi akan dilakukan sama seperti tadi yaitu mengganti bit sesuai dengan tabel pc-2 yang sudah di inisialisasi\n",
        "    round_key = \"\"\n",
        "    for j in range(0, 48):\n",
        "        round_key = round_key + combine_str[key_comp[j] - 1]\n",
        "\n",
        "    print(\"Kunci hasil permutasi PC-2 \" + str(i) + \" yaitu: \" + round_key)\n",
        "\n",
        "    # menyimpan kunci hasil permutasi ke variabel rkb\n",
        "    rkb.append(round_key)"
      ],
      "metadata": {
        "colab": {
          "base_uri": "https://localhost:8080/"
        },
        "id": "SvXmDpIcQA2z",
        "outputId": "bbae2828-8738-49cc-9058-f72579f7c619"
      },
      "execution_count": null,
      "outputs": [
        {
          "output_type": "stream",
          "name": "stdout",
          "text": [
            "Kunci hasil permutasi PC-2 0 yaitu: 011110011010111011011001110110111100100111100101\n",
            "Kunci hasil permutasi PC-2 1 yaitu: 101110010101100010111100011001011110101001101110\n",
            "Kunci hasil permutasi PC-2 2 yaitu: 100101000010101111101100101101001011110011011010\n",
            "Kunci hasil permutasi PC-2 3 yaitu: 100100100111111000110101101011011001011001110111\n",
            "Kunci hasil permutasi PC-2 4 yaitu: 110011010011111101100100000111111110111011100010\n",
            "Kunci hasil permutasi PC-2 5 yaitu: 110000101111011011101101001111001100110101010101\n",
            "Kunci hasil permutasi PC-2 6 yaitu: 110110011101011101100010100010111110010011010110\n",
            "Kunci hasil permutasi PC-2 7 yaitu: 111000001101101111101011111011011110011110000001\n",
            "Kunci hasil permutasi PC-2 8 yaitu: 101011101011001010110010001101111011101000111001\n",
            "Kunci hasil permutasi PC-2 9 yaitu: 101111100001111001011110011100110001110101110110\n",
            "Kunci hasil permutasi PC-2 10 yaitu: 011011100111001001011000000011011010100110111110\n",
            "Kunci hasil permutasi PC-2 11 yaitu: 000011101101110101111100011001010111110011010101\n",
            "Kunci hasil permutasi PC-2 12 yaitu: 110011100110100101011011011010111000000011111111\n",
            "Kunci hasil permutasi PC-2 13 yaitu: 001011111110111100101001100001111101110110001111\n",
            "Kunci hasil permutasi PC-2 14 yaitu: 110010110011110110001011000011100001011111110101\n",
            "Kunci hasil permutasi PC-2 15 yaitu: 000110110000001011101111111111000111000001110010\n"
          ]
        }
      ]
    },
    {
      "cell_type": "markdown",
      "source": [
        "**inisialisai tabel ekspansi**"
      ],
      "metadata": {
        "id": "RyZOI74jtkdH"
      }
    },
    {
      "cell_type": "code",
      "source": [
        "# inisalisasi tabel untuk expansi bit kanan dlaam proses enkripsi\n",
        "exp_d = [32, 1, 2, 3, 4, 5, 4, 5,\n",
        "         6, 7, 8, 9, 8, 9, 10, 11,\n",
        "         12, 13, 12, 13, 14, 15, 16, 17,\n",
        "         16, 17, 18, 19, 20, 21, 20, 21,\n",
        "         22, 23, 24, 25, 24, 25, 26, 27,\n",
        "         28, 29, 28, 29, 30, 31, 32, 1]\n",
        "\n",
        "print(\"Expansion Table:\\n\")\n",
        "for i in range(0, len(exp_d), 8):\n",
        "    row = exp_d[i:i+8]\n",
        "    formatted_row = \" \\t|\\t \".join([f\"{num:>{column_width}}\" for num in row])\n",
        "    print(formatted_row)"
      ],
      "metadata": {
        "colab": {
          "base_uri": "https://localhost:8080/"
        },
        "id": "EyAk1SeHQEs5",
        "outputId": "d8dcb944-6c07-46e4-c398-8337c14147cb"
      },
      "execution_count": null,
      "outputs": [
        {
          "output_type": "stream",
          "name": "stdout",
          "text": [
            "Expansion Table:\n",
            "\n",
            "32 \t|\t 1 \t|\t 2 \t|\t 3 \t|\t 4 \t|\t 5 \t|\t 4 \t|\t 5\n",
            "6 \t|\t 7 \t|\t 8 \t|\t 9 \t|\t 8 \t|\t 9 \t|\t 10 \t|\t 11\n",
            "12 \t|\t 13 \t|\t 12 \t|\t 13 \t|\t 14 \t|\t 15 \t|\t 16 \t|\t 17\n",
            "16 \t|\t 17 \t|\t 18 \t|\t 19 \t|\t 20 \t|\t 21 \t|\t 20 \t|\t 21\n",
            "22 \t|\t 23 \t|\t 24 \t|\t 25 \t|\t 24 \t|\t 25 \t|\t 26 \t|\t 27\n",
            "28 \t|\t 29 \t|\t 28 \t|\t 29 \t|\t 30 \t|\t 31 \t|\t 32 \t|\t 1\n"
          ]
        }
      ]
    },
    {
      "cell_type": "markdown",
      "source": [
        "**inisialisasi tabel sbox**"
      ],
      "metadata": {
        "id": "ALAxIYRstovw"
      }
    },
    {
      "cell_type": "code",
      "source": [
        "# inisialisasi untuk sbox yang akan digunakan untuk proses mengubah bit yang awalnya 6 menjadi 4\n",
        "sbox = [[[14, 4, 13, 1, 2, 15, 11, 8, 3, 10, 6, 12, 5, 9, 0, 7],\n",
        "         [0, 15, 7, 4, 14, 2, 13, 1, 10, 6, 12, 11, 9, 5, 3, 8],\n",
        "         [4, 1, 14, 8, 13, 6, 2, 11, 15, 12, 9, 7, 3, 10, 5, 0],\n",
        "         [15, 12, 8, 2, 4, 9, 1, 7, 5, 11, 3, 14, 10, 0, 6, 13]],\n",
        "\n",
        "        [[15, 1, 8, 14, 6, 11, 3, 4, 9, 7, 2, 13, 12, 0, 5, 10],\n",
        "         [3, 13, 4, 7, 15, 2, 8, 14, 12, 0, 1, 10, 6, 9, 11, 5],\n",
        "         [0, 14, 7, 11, 10, 4, 13, 1, 5, 8, 12, 6, 9, 3, 2, 15],\n",
        "         [13, 8, 10, 1, 3, 15, 4, 2, 11, 6, 7, 12, 0, 5, 14, 9]],\n",
        "\n",
        "        [[10, 0, 9, 14, 6, 3, 15, 5, 1, 13, 12, 7, 11, 4, 2, 8],\n",
        "         [13, 7, 0, 9, 3, 4, 6, 10, 2, 8, 5, 14, 12, 11, 15, 1],\n",
        "         [13, 6, 4, 9, 8, 15, 3, 0, 11, 1, 2, 12, 5, 10, 14, 7],\n",
        "         [1, 10, 13, 0, 6, 9, 8, 7, 4, 15, 14, 3, 11, 5, 2, 12]],\n",
        "\n",
        "        [[7, 13, 14, 3, 0, 6, 9, 10, 1, 2, 8, 5, 11, 12, 4, 15],\n",
        "         [13, 8, 11, 5, 6, 15, 0, 3, 4, 7, 2, 12, 1, 10, 14, 9],\n",
        "         [10, 6, 9, 0, 12, 11, 7, 13, 15, 1, 3, 14, 5, 2, 8, 4],\n",
        "         [3, 15, 0, 6, 10, 1, 13, 8, 9, 4, 5, 11, 12, 7, 2, 14]],\n",
        "\n",
        "        [[2, 12, 4, 1, 7, 10, 11, 6, 8, 5, 3, 15, 13, 0, 14, 9],\n",
        "         [14, 11, 2, 12, 4, 7, 13, 1, 5, 0, 15, 10, 3, 9, 8, 6],\n",
        "         [4, 2, 1, 11, 10, 13, 7, 8, 15, 9, 12, 5, 6, 3, 0, 14],\n",
        "         [11, 8, 12, 7, 1, 14, 2, 13, 6, 15, 0, 9, 10, 4, 5, 3]],\n",
        "\n",
        "        [[12, 1, 10, 15, 9, 2, 6, 8, 0, 13, 3, 4, 14, 7, 5, 11],\n",
        "         [10, 15, 4, 2, 7, 12, 9, 5, 6, 1, 13, 14, 0, 11, 3, 8],\n",
        "         [9, 14, 15, 5, 2, 8, 12, 3, 7, 0, 4, 10, 1, 13, 11, 6],\n",
        "         [4, 3, 2, 12, 9, 5, 15, 10, 11, 14, 1, 7, 6, 0, 8, 13]],\n",
        "\n",
        "        [[4, 11, 2, 14, 15, 0, 8, 13, 3, 12, 9, 7, 5, 10, 6, 1],\n",
        "         [13, 0, 11, 7, 4, 9, 1, 10, 14, 3, 5, 12, 2, 15, 8, 6],\n",
        "         [1, 4, 11, 13, 12, 3, 7, 14, 10, 15, 6, 8, 0, 5, 9, 2],\n",
        "         [6, 11, 13, 8, 1, 4, 10, 7, 9, 5, 0, 15, 14, 2, 3, 12]],\n",
        "\n",
        "        [[13, 2, 8, 4, 6, 15, 11, 1, 10, 9, 3, 14, 5, 0, 12, 7],\n",
        "         [1, 15, 13, 8, 10, 3, 7, 4, 12, 5, 6, 11, 0, 14, 9, 2],\n",
        "         [7, 11, 4, 1, 9, 12, 14, 2, 0, 6, 10, 13, 15, 3, 5, 8],\n",
        "         [2, 1, 14, 7, 4, 10, 8, 13, 15, 12, 9, 0, 3, 5, 6, 11]]]\n",
        "\n",
        "# Printing the S-boxes as a formatted table\n",
        "print(\"S-boxes:\\n\")\n",
        "for sbox_index, sbox_layer in enumerate(sbox):\n",
        "    print(f\"S-box {sbox_index + 1}:\\n\")\n",
        "    for row in sbox_layer:\n",
        "        formatted_row = \" | \".join([f\"{num:>{2}}\" for num in row])\n",
        "        print(formatted_row)\n",
        "    print(\"\\n\")"
      ],
      "metadata": {
        "colab": {
          "base_uri": "https://localhost:8080/"
        },
        "id": "R3dbIrTAQHAZ",
        "outputId": "7d4f47ed-e8a4-47fe-b10c-6650be2079dd"
      },
      "execution_count": null,
      "outputs": [
        {
          "output_type": "stream",
          "name": "stdout",
          "text": [
            "S-boxes:\n",
            "\n",
            "S-box 1:\n",
            "\n",
            "14 |  4 | 13 |  1 |  2 | 15 | 11 |  8 |  3 | 10 |  6 | 12 |  5 |  9 |  0 |  7\n",
            " 0 | 15 |  7 |  4 | 14 |  2 | 13 |  1 | 10 |  6 | 12 | 11 |  9 |  5 |  3 |  8\n",
            " 4 |  1 | 14 |  8 | 13 |  6 |  2 | 11 | 15 | 12 |  9 |  7 |  3 | 10 |  5 |  0\n",
            "15 | 12 |  8 |  2 |  4 |  9 |  1 |  7 |  5 | 11 |  3 | 14 | 10 |  0 |  6 | 13\n",
            "\n",
            "\n",
            "S-box 2:\n",
            "\n",
            "15 |  1 |  8 | 14 |  6 | 11 |  3 |  4 |  9 |  7 |  2 | 13 | 12 |  0 |  5 | 10\n",
            " 3 | 13 |  4 |  7 | 15 |  2 |  8 | 14 | 12 |  0 |  1 | 10 |  6 |  9 | 11 |  5\n",
            " 0 | 14 |  7 | 11 | 10 |  4 | 13 |  1 |  5 |  8 | 12 |  6 |  9 |  3 |  2 | 15\n",
            "13 |  8 | 10 |  1 |  3 | 15 |  4 |  2 | 11 |  6 |  7 | 12 |  0 |  5 | 14 |  9\n",
            "\n",
            "\n",
            "S-box 3:\n",
            "\n",
            "10 |  0 |  9 | 14 |  6 |  3 | 15 |  5 |  1 | 13 | 12 |  7 | 11 |  4 |  2 |  8\n",
            "13 |  7 |  0 |  9 |  3 |  4 |  6 | 10 |  2 |  8 |  5 | 14 | 12 | 11 | 15 |  1\n",
            "13 |  6 |  4 |  9 |  8 | 15 |  3 |  0 | 11 |  1 |  2 | 12 |  5 | 10 | 14 |  7\n",
            " 1 | 10 | 13 |  0 |  6 |  9 |  8 |  7 |  4 | 15 | 14 |  3 | 11 |  5 |  2 | 12\n",
            "\n",
            "\n",
            "S-box 4:\n",
            "\n",
            " 7 | 13 | 14 |  3 |  0 |  6 |  9 | 10 |  1 |  2 |  8 |  5 | 11 | 12 |  4 | 15\n",
            "13 |  8 | 11 |  5 |  6 | 15 |  0 |  3 |  4 |  7 |  2 | 12 |  1 | 10 | 14 |  9\n",
            "10 |  6 |  9 |  0 | 12 | 11 |  7 | 13 | 15 |  1 |  3 | 14 |  5 |  2 |  8 |  4\n",
            " 3 | 15 |  0 |  6 | 10 |  1 | 13 |  8 |  9 |  4 |  5 | 11 | 12 |  7 |  2 | 14\n",
            "\n",
            "\n",
            "S-box 5:\n",
            "\n",
            " 2 | 12 |  4 |  1 |  7 | 10 | 11 |  6 |  8 |  5 |  3 | 15 | 13 |  0 | 14 |  9\n",
            "14 | 11 |  2 | 12 |  4 |  7 | 13 |  1 |  5 |  0 | 15 | 10 |  3 |  9 |  8 |  6\n",
            " 4 |  2 |  1 | 11 | 10 | 13 |  7 |  8 | 15 |  9 | 12 |  5 |  6 |  3 |  0 | 14\n",
            "11 |  8 | 12 |  7 |  1 | 14 |  2 | 13 |  6 | 15 |  0 |  9 | 10 |  4 |  5 |  3\n",
            "\n",
            "\n",
            "S-box 6:\n",
            "\n",
            "12 |  1 | 10 | 15 |  9 |  2 |  6 |  8 |  0 | 13 |  3 |  4 | 14 |  7 |  5 | 11\n",
            "10 | 15 |  4 |  2 |  7 | 12 |  9 |  5 |  6 |  1 | 13 | 14 |  0 | 11 |  3 |  8\n",
            " 9 | 14 | 15 |  5 |  2 |  8 | 12 |  3 |  7 |  0 |  4 | 10 |  1 | 13 | 11 |  6\n",
            " 4 |  3 |  2 | 12 |  9 |  5 | 15 | 10 | 11 | 14 |  1 |  7 |  6 |  0 |  8 | 13\n",
            "\n",
            "\n",
            "S-box 7:\n",
            "\n",
            " 4 | 11 |  2 | 14 | 15 |  0 |  8 | 13 |  3 | 12 |  9 |  7 |  5 | 10 |  6 |  1\n",
            "13 |  0 | 11 |  7 |  4 |  9 |  1 | 10 | 14 |  3 |  5 | 12 |  2 | 15 |  8 |  6\n",
            " 1 |  4 | 11 | 13 | 12 |  3 |  7 | 14 | 10 | 15 |  6 |  8 |  0 |  5 |  9 |  2\n",
            " 6 | 11 | 13 |  8 |  1 |  4 | 10 |  7 |  9 |  5 |  0 | 15 | 14 |  2 |  3 | 12\n",
            "\n",
            "\n",
            "S-box 8:\n",
            "\n",
            "13 |  2 |  8 |  4 |  6 | 15 | 11 |  1 | 10 |  9 |  3 | 14 |  5 |  0 | 12 |  7\n",
            " 1 | 15 | 13 |  8 | 10 |  3 |  7 |  4 | 12 |  5 |  6 | 11 |  0 | 14 |  9 |  2\n",
            " 7 | 11 |  4 |  1 |  9 | 12 | 14 |  2 |  0 |  6 | 10 | 13 | 15 |  3 |  5 |  8\n",
            " 2 |  1 | 14 |  7 |  4 | 10 |  8 | 13 | 15 | 12 |  9 |  0 |  3 |  5 |  6 | 11\n",
            "\n",
            "\n"
          ]
        }
      ]
    },
    {
      "cell_type": "markdown",
      "source": [
        "**inisalisasi tabel p-box**"
      ],
      "metadata": {
        "id": "SgCWEJVntsoF"
      }
    },
    {
      "cell_type": "code",
      "source": [
        "# inisalisasi p-box yang akan digunakan dalam proses permutasi dengan hasil dari proses sbox\n",
        "# P-Box\n",
        "per = [16, 7, 20, 21,\n",
        "    29, 12, 28, 17,\n",
        "    1, 15, 23, 26,\n",
        "    5, 18, 31, 10,\n",
        "    2, 8, 24, 14,\n",
        "    32, 27, 3, 9,\n",
        "    19, 13, 30, 6,\n",
        "    22, 11, 4, 25]\n",
        "\n",
        "print(per)"
      ],
      "metadata": {
        "colab": {
          "base_uri": "https://localhost:8080/"
        },
        "id": "78kYVgfQQJ5w",
        "outputId": "7b7230e6-64c0-4458-8872-89107b0ddb19"
      },
      "execution_count": null,
      "outputs": [
        {
          "output_type": "stream",
          "name": "stdout",
          "text": [
            "[16, 7, 20, 21, 29, 12, 28, 17, 1, 15, 23, 26, 5, 18, 31, 10, 2, 8, 24, 14, 32, 27, 3, 9, 19, 13, 30, 6, 22, 11, 4, 25]\n"
          ]
        }
      ]
    },
    {
      "cell_type": "markdown",
      "source": [
        "**inisialisasi tabel invers permutasi**"
      ],
      "metadata": {
        "id": "YTA1MOVDtvOU"
      }
    },
    {
      "cell_type": "code",
      "source": [
        "# inisialisasi tabel invers permutasi untuk nantinya melakukan permutasi akhir untuk mendapatkan ciphertext\n",
        "# Invers Permutasi\n",
        "final_perm = [40, 8, 48, 16, 56, 24, 64, 32,\n",
        "            39, 7, 47, 15, 55, 23, 63, 31,\n",
        "            38, 6, 46, 14, 54, 22, 62, 30,\n",
        "            37, 5, 45, 13, 53, 21, 61, 29,\n",
        "            36, 4, 44, 12, 52, 20, 60, 28,\n",
        "            35, 3, 43, 11, 51, 19, 59, 27,\n",
        "            34, 2, 42, 10, 50, 18, 58, 26,\n",
        "            33, 1, 41, 9, 49, 17, 57, 25]\n",
        "\n",
        "print(final_perm)"
      ],
      "metadata": {
        "colab": {
          "base_uri": "https://localhost:8080/"
        },
        "id": "YiyAKAhFQRdz",
        "outputId": "08167246-9df8-4d65-e773-ac95e2f70712"
      },
      "execution_count": null,
      "outputs": [
        {
          "output_type": "stream",
          "name": "stdout",
          "text": [
            "[40, 8, 48, 16, 56, 24, 64, 32, 39, 7, 47, 15, 55, 23, 63, 31, 38, 6, 46, 14, 54, 22, 62, 30, 37, 5, 45, 13, 53, 21, 61, 29, 36, 4, 44, 12, 52, 20, 60, 28, 35, 3, 43, 11, 51, 19, 59, 27, 34, 2, 42, 10, 50, 18, 58, 26, 33, 1, 41, 9, 49, 17, 57, 25]\n"
          ]
        }
      ]
    },
    {
      "cell_type": "markdown",
      "source": [
        "**proses enkripsi dengan menggunakan algoritma DES (Untuk codingan tidak dibagi menjadi beberapa cell karena 1 iterasi melakukan proses hingga selesai setelah itu dilanjutkan ke iterasi selanjutnya)**"
      ],
      "metadata": {
        "id": "zYtlS3XltzZA"
      }
    },
    {
      "cell_type": "code",
      "source": [
        "# setelah itu melakukan proses enkripsi, right expanded yaitu variabel yang akan menampung hasil proses ekspansi bit yang nantinya akan digunakan hingga proses xor bit kiri\n",
        "right_expanded = \"\"\n",
        "for i in range(16):\n",
        "    # melakukan proses ekspansi pada pesan bit kanan\n",
        "    permutation = \"\"\n",
        "    # untuk proses yang dilakukan masih sama yaitu mencari bit sesuai dengan tabel ekspansi yang sudah dibuat\n",
        "    for j in range(0, 48):\n",
        "        permutation = permutation + right[exp_d[j] - 1]\n",
        "    right_expanded = permutation\n",
        "    print(\"ekspansi ke-\" + str(i) + \" : \" + right_expanded)\n",
        "\n",
        "    # melakukan proses xor pada hasil ekspansi dengan hasil proses permutasi dengan PC-2\n",
        "    xor_x = \"\"\n",
        "    for j in range(48):\n",
        "        # cara kerjanya yaitu jika kedua nilai sama maka 0 dan jika kedua nilai ada perbedaan maka 1\n",
        "        if right_expanded[j] == rkb[i][j]:\n",
        "            xor_x = xor_x + \"0\"\n",
        "        else:\n",
        "            xor_x = xor_x + \"1\"\n",
        "    print(\"XOR kanan putaran ke-\" + str(i) + \" : \" + xor_x)\n",
        "\n",
        "    # melakukan proses pencarian bit dgn menggunakan s-box pada hasil proses xor\n",
        "    sbox_str = \"\"\n",
        "    # cara kerjanya yaitu nanti akan mencari bit paling akhir dan awal untuk digabungkan dan sisa 4 bit tengah digabungkan\n",
        "    # setelah mendapatkann hal tersebut, maka melakukan proses pencarian sesuai dengan bit tadisesuai dengan tabel iterasi yang dilakukan\n",
        "    for j in range(0, 8):\n",
        "        row = int(xor_x[j * 6] + xor_x[j * 6 + 5], 2)\n",
        "        col = int(xor_x[j * 6 + 1:j * 6 + 5], 2)\n",
        "        val = sbox[j][row][col]\n",
        "        sbox_str = sbox_str + format(val, '04b')\n",
        "    print(\"Hasil xbox putaran ke-\" + str(i) + \" : \" + sbox_str)\n",
        "\n",
        "    # melakukan permutasi hasil s-box dengan P-box\n",
        "    sbox_str_permuted = \"\"\n",
        "    # cara kerjanya sama dengan permutasi yang sudah dilakukan yaitu mencari bit sesuai dengan tabel p-box\n",
        "    for j in range(32):\n",
        "        sbox_str_permuted = sbox_str_permuted + sbox_str[per[j] - 1]\n",
        "    print(\"Hasil P-box putaran ke-\" + str(i) + \" : \" + sbox_str_permuted)\n",
        "\n",
        "    # melakukan proses xor bit kiri dengan hasil p-box\n",
        "    result = \"\"\n",
        "    for j in range(32):\n",
        "        # cara kerjanya yaitu jika kedua nilai sama maka 0 dan jika kedua nilai ada perbedaan maka 1\n",
        "        if left[j] == sbox_str_permuted[j]:\n",
        "            result = result + \"0\"\n",
        "        else:\n",
        "            result = result + \"1\"\n",
        "    left = result\n",
        "    print(\"XOR kiri putaran ke-\" + str(i) + \" : \" + result)\n",
        "\n",
        "    # proses swapping dari bit kiri dan kanan\n",
        "    if i != 15:\n",
        "        left, right = right, left\n",
        "    print(\"Round\", i + 1, left, right, rkb[i])\n",
        "    print(\"\\n\")\n",
        "# menggabungkan nilai hasil enkripsi pesan bit kiri dan kanan\n",
        "combine = left + right\n",
        "\n",
        "# melakukan proses permutasi lagi dengan menggunakan tabel invers permutasi\n",
        "cipher_text = \"\"\n",
        "for j in range(64):\n",
        "    cipher_text = cipher_text + combine[final_perm[j] - 1]\n",
        "\n",
        "print(\"Cipher Text:\", cipher_text)"
      ],
      "metadata": {
        "colab": {
          "base_uri": "https://localhost:8080/"
        },
        "id": "6yiBw-iUQZk-",
        "outputId": "558b6950-dac0-4292-bc44-de2f2a678fed"
      },
      "execution_count": null,
      "outputs": [
        {
          "output_type": "stream",
          "name": "stdout",
          "text": [
            "ekspansi ke-0 : 110000000111110101011101011100000011110011110111\n",
            "XOR kanan putaran ke-0 : 101110011101001110000100101010111111010100010010\n",
            "Hasil xbox putaran ke-0 : 10111011010111101101110110011001\n",
            "Hasil P-box putaran ke-0 : 01111111110011010111101001001011\n",
            "XOR kiri putaran ke-0 : 11010001000001100111110110011111\n",
            "Round 1 10000011101011101110000110011011 11010001000001100111110110011111 011110011010111011011001110110111100100111100101\n",
            "\n",
            "\n",
            "ekspansi ke-1 : 111010100010100000001100001111111011110011111111\n",
            "XOR kanan putaran ke-1 : 010100110111000010110000010110100101011010010001\n",
            "Hasil xbox putaran ke-1 : 01101100000011111111001010101100\n",
            "Hasil P-box putaran ke-1 : 10101001011011001001011011110001\n",
            "XOR kiri putaran ke-1 : 00101010110000100111011101101010\n",
            "Round 2 11010001000001100111110110011111 00101010110000100111011101101010 101110010101100010111100011001011110101001101110\n",
            "\n",
            "\n",
            "ekspansi ke-2 : 000101010101011000000100001110101110101101010100\n",
            "XOR kanan putaran ke-2 : 100000010111110111101000100011100101011110001110\n",
            "Hasil xbox putaran ke-2 : 01001010001111001000001000010001\n",
            "Hasil P-box putaran ke-2 : 01000111001010001001100001000100\n",
            "XOR kiri putaran ke-2 : 10010110001011101110010111011011\n",
            "Round 3 00101010110000100111011101101010 10010110001011101110010111011011 100101000010101111101100101101001011110011011010\n",
            "\n",
            "\n",
            "ekspansi ke-3 : 110010101100000101011101011100001011111011110111\n",
            "XOR kanan putaran ke-3 : 010110001011111101101000110111010010100010000000\n",
            "Hasil xbox putaran ke-3 : 11000010001011001001110101001101\n",
            "Hasil P-box putaran ke-3 : 01111001100100001011100001101100\n",
            "XOR kiri putaran ke-3 : 01010011010100101100111100000110\n",
            "Round 4 10010110001011101110010111011011 01010011010100101100111100000110 100100100111111000110101101011011001011001110111\n",
            "\n",
            "\n",
            "ekspansi ke-4 : 001010100110101010100101011001011110100000001100\n",
            "XOR kanan putaran ke-4 : 111001110101010111000001011110100000011011101110\n",
            "Hasil xbox putaran ke-4 : 10100111111011011001100111110010\n",
            "Hasil P-box putaran ke-4 : 11110011100100110111011101010101\n",
            "XOR kiri putaran ke-4 : 01100101101111011001001010001110\n",
            "Round 5 01010011010100101100111100000110 01100101101111011001001010001110 110011010011111101100100000111111110111011100010\n",
            "\n",
            "\n",
            "ekspansi ke-5 : 001100001011110111111011110010100101010001011100\n",
            "XOR kanan putaran ke-5 : 111100100100101100010110111101101001100100001001\n",
            "Hasil xbox putaran ke-5 : 01010111001101010101100110111010\n",
            "Hasil P-box putaran ke-5 : 11111110000001101111010000010111\n",
            "XOR kiri putaran ke-5 : 10101101010101000011101100010001\n",
            "Round 6 01100101101111011001001010001110 10101101010101000011101100010001 110000101111011011101101001111001100110101010101\n",
            "\n",
            "\n",
            "ekspansi ke-6 : 110101011010101010101000000111110110100010100011\n",
            "XOR kanan putaran ke-6 : 000011000111110111001010100101001000110001110101\n",
            "Hasil xbox putaran ke-6 : 11110111001101101100100110011001\n",
            "Hasil P-box putaran ke-6 : 01011111110001001111101000010111\n",
            "XOR kiri putaran ke-6 : 00111010011110010110100010011001\n",
            "Round 7 10101101010101000011101100010001 00111010011110010110100010011001 110110011101011101100010100010111110010011010110\n",
            "\n",
            "\n",
            "ekspansi ke-7 : 100111110100001111110010101101010001010011110010\n",
            "XOR kanan putaran ke-7 : 011111111001100000011001010110001111001101110011\n",
            "Hasil xbox putaran ke-7 : 10000000110100011111010100011100\n",
            "Hasil P-box putaran ke-7 : 10101111100001010010000110101000\n",
            "XOR kiri putaran ke-7 : 00000010110100010001101010111001\n",
            "Round 8 00111010011110010110100010011001 00000010110100010001101010111001 111000001101101111101011111011011110011110000001\n",
            "\n",
            "\n",
            "ekspansi ke-8 : 100000000101011010100010100011110101010111110010\n",
            "XOR kanan putaran ke-8 : 001011101110010000010000101110001110111111001011\n",
            "Hasil xbox putaran ke-8 : 00100001000100011000100011000011\n",
            "Hasil P-box putaran ke-8 : 10010101000100100100101000000001\n",
            "XOR kiri putaran ke-8 : 10101111011010110010001010011000\n",
            "Round 9 00000010110100010001101010111001 10101111011010110010001010011000 101011101011001010110010001101111011101000111001\n",
            "\n",
            "\n",
            "ekspansi ke-9 : 010101011110101101010110100100000101010011110001\n",
            "XOR kanan putaran ke-9 : 111010111111010100001000111000110100100110000111\n",
            "Hasil xbox putaran ke-9 : 10101001110000000110010011011000\n",
            "Hasil P-box putaran ke-9 : 00001010100111010100001110001001\n",
            "XOR kiri putaran ke-9 : 00001000010011000101100100110000\n",
            "Round 10 10101111011010110010001010011000 00001000010011000101100100110000 101111100001111001011110011100110001110101110110\n",
            "\n",
            "\n",
            "ekspansi ke-10 : 000001010000001001011000001011110010100110100000\n",
            "XOR kanan putaran ke-10 : 011010110111000000000000001000101000000000011110\n",
            "Hasil xbox putaran ke-10 : 10011100101001110111001001000111\n",
            "Hasil P-box putaran ke-10 : 10100000111111100001100110110110\n",
            "XOR kiri putaran ke-10 : 00001111100101010011101100101110\n",
            "Round 11 00001000010011000101100100110000 00001111100101010011101100101110 011011100111001001011000000011011010100110111110\n",
            "\n",
            "\n",
            "ekspansi ke-11 : 000001011111110010101010100111110110100101011100\n",
            "XOR kanan putaran ke-11 : 000010110010000111010110111110100001010110001001\n",
            "Hasil xbox putaran ke-11 : 01001000100101011110010001111010\n",
            "Hasil P-box putaran ke-11 : 10001111000111101001010110001000\n",
            "XOR kiri putaran ke-11 : 10000111010100101100110010111000\n",
            "Round 12 00001111100101010011101100101110 10000111010100101100110010111000 000011101101110101111100011001010111110011010101\n",
            "\n",
            "\n",
            "ekspansi ke-12 : 010000001110101010100101011001011001010111110001\n",
            "XOR kanan putaran ke-12 : 100011101000001111111110000011100001010100001110\n",
            "Hasil xbox putaran ke-12 : 11001010101001001011010010010001\n",
            "Hasil P-box putaran ke-12 : 01100011100010001001100110001101\n",
            "XOR kiri putaran ke-12 : 01101100000111011010001010100011\n",
            "Round 13 10000111010100101100110010111000 01101100000111011010001010100011 110011100110100101011011011010111000000011111111\n",
            "\n",
            "\n",
            "ekspansi ke-13 : 101101011000000011111011110100000101010100000110\n",
            "XOR kanan putaran ke-13 : 100110100110111111010010010101111000100010001001\n",
            "Hasil xbox putaran ke-13 : 10001011110000101111000101001010\n",
            "Hasil P-box putaran ke-13 : 01101001110111110110000110000000\n",
            "XOR kiri putaran ke-13 : 11101110100011011010110100111000\n",
            "Round 14 01101100000111011010001010100011 11101110100011011010110100111000 001011111110111100101001100001111101110110001111\n",
            "\n",
            "\n",
            "ekspansi ke-14 : 011101011101010001011011110101011010100111110001\n",
            "XOR kanan putaran ke-14 : 101111101110100111010000110110111011111000000100\n",
            "Hasil xbox putaran ke-14 : 01110001000000010101000000001000\n",
            "Hasil P-box putaran ke-14 : 10101000000001001100001000000010\n",
            "XOR kiri putaran ke-14 : 11000100000110010110000010100001\n",
            "Round 15 11101110100011011010110100111000 11000100000110010110000010100001 110010110011110110001011000011100001011111110101\n",
            "\n",
            "\n",
            "ekspansi ke-15 : 111000001000000011110010101100000001010100000011\n",
            "XOR kanan putaran ke-15 : 111110111000001000011101010011000110010101110001\n",
            "Hasil xbox putaran ke-15 : 00001001011011100000111101011111\n",
            "Hasil P-box putaran ke-15 : 00011010011110110111100001101100\n",
            "XOR kiri putaran ke-15 : 11110100111101101101010101010100\n",
            "Round 16 11110100111101101101010101010100 11000100000110010110000010100001 000110110000001011101111111111000111000001110010\n",
            "\n",
            "\n",
            "Cipher Text: 0010011000010000110101010010000001110101010110101101110111010110\n"
          ]
        }
      ]
    },
    {
      "cell_type": "markdown",
      "source": [
        "**mengambil kunci yang sudah dibangkitkan dengan urutan terbalik dan menampilkan ciphertext**"
      ],
      "metadata": {
        "id": "3Ukb4rnWvm3R"
      }
    },
    {
      "cell_type": "code",
      "source": [
        "# rkb_rev merupakan variabel yang digunakan untuk menampung kunci yang sebelumnya didapatkan dengan urutan terbalik\n",
        "rkb_rev = rkb[::-1]\n",
        "\n",
        "# separated_text akan menyimpan bit teks yang sudah dibagi menjadi per 8 bit\n",
        "separated_text = ' '.join([cipher_text[i:i+8] for i in range(0, len(cipher_text), 8)])\n",
        "print(\"Ciphertext: \" + separated_text)\n",
        "\n",
        "print(\"Panjang Teks: \" + str(len(cipher_text)))"
      ],
      "metadata": {
        "colab": {
          "base_uri": "https://localhost:8080/"
        },
        "id": "0z8G3ufeQjxw",
        "outputId": "4b822d87-af53-4a29-8ddd-f24e9290e1a4"
      },
      "execution_count": null,
      "outputs": [
        {
          "output_type": "stream",
          "name": "stdout",
          "text": [
            "Ciphertext: 00100110 00010000 11010101 00100000 01110101 01011010 11011101 11010110\n",
            "Panjang Teks: 64\n"
          ]
        }
      ]
    },
    {
      "cell_type": "markdown",
      "source": [
        "**membuat tabel permutasi awal untuk proses dekripsi**"
      ],
      "metadata": {
        "id": "0jdOGshJvwmZ"
      }
    },
    {
      "cell_type": "code",
      "source": [
        "# membuat tabel permutasi awal yang nantinya digunakan untuk proses dekripsi\n",
        "initial_perm = [58, 50, 42, 34, 26, 18, 10, 2,\n",
        "                60, 52, 44, 36, 28, 20, 12, 4,\n",
        "                62, 54, 46, 38, 30, 22, 14, 6,\n",
        "                64, 56, 48, 40, 32, 24, 16, 8,\n",
        "                57, 49, 41, 33, 25, 17, 9, 1,\n",
        "                59, 51, 43, 35, 27, 19, 11, 3,\n",
        "                61, 53, 45, 37, 29, 21, 13, 5,\n",
        "                63, 55, 47, 39, 31, 23, 15, 7]\n",
        "\n",
        "column_width = len(str(max(initial_perm)))\n",
        "\n",
        "print(\"Initial Permutation Table: \\n\")\n",
        "for i in range(0, len(initial_perm), 8):\n",
        "    row = initial_perm[i:i+8]\n",
        "    formatted_row = \" | \".join([f\"{num:>{column_width}}\" for num in row])\n",
        "    print(formatted_row)"
      ],
      "metadata": {
        "colab": {
          "base_uri": "https://localhost:8080/"
        },
        "id": "WQOC4176Qm3e",
        "outputId": "cce4b954-3b57-4b69-906a-3e3cc6a1cdf5"
      },
      "execution_count": null,
      "outputs": [
        {
          "output_type": "stream",
          "name": "stdout",
          "text": [
            "Initial Permutation Table: \n",
            "\n",
            "58 | 50 | 42 | 34 | 26 | 18 | 10 |  2\n",
            "60 | 52 | 44 | 36 | 28 | 20 | 12 |  4\n",
            "62 | 54 | 46 | 38 | 30 | 22 | 14 |  6\n",
            "64 | 56 | 48 | 40 | 32 | 24 | 16 |  8\n",
            "57 | 49 | 41 | 33 | 25 | 17 |  9 |  1\n",
            "59 | 51 | 43 | 35 | 27 | 19 | 11 |  3\n",
            "61 | 53 | 45 | 37 | 29 | 21 | 13 |  5\n",
            "63 | 55 | 47 | 39 | 31 | 23 | 15 |  7\n"
          ]
        }
      ]
    },
    {
      "cell_type": "markdown",
      "source": [
        "**proses permutasi awal untuk ciphertext**"
      ],
      "metadata": {
        "id": "aX69-lcnv1Ch"
      }
    },
    {
      "cell_type": "code",
      "source": [
        "# permutation merupakan variabel penampung untuk hasil permutasi\n",
        "permutation = \"\"\n",
        "for i in range(0, 64):\n",
        "    # untuk prosesnya sama seperti permutasi awal yaitu mencari bit sesuai dengan tabel PC-1 untuk nanti dilakukan pergantian bit\n",
        "    permutation = permutation + cipher_text[initial_perm[i] - 1]\n",
        "\n",
        "separated_text = ' '.join([permutation[i:i+8] for i in range(0, len(permutation), 8)])\n",
        "print(\"Teks hasil permutasi awal: \" + separated_text)"
      ],
      "metadata": {
        "colab": {
          "base_uri": "https://localhost:8080/"
        },
        "id": "cwOCuyvXQ1uc",
        "outputId": "2b6920e6-9902-404c-b9b2-b212162855c2"
      },
      "execution_count": null,
      "outputs": [
        {
          "output_type": "stream",
          "name": "stdout",
          "text": [
            "Teks hasil permutasi awal: 11110100 11110110 11010101 01010100 11000100 00011001 01100000 10100001\n"
          ]
        }
      ]
    },
    {
      "cell_type": "markdown",
      "source": [
        "**membagi hasil permutasi menjadi bit kiri dan kanan**"
      ],
      "metadata": {
        "id": "opbVXxBvv39Z"
      }
    },
    {
      "cell_type": "code",
      "source": [
        "# melakukan proses pembagian teks hasil permutasi untuk nantinya digunakan dalam proses dekripsi\n",
        "left = permutation[0:32]\n",
        "right = permutation[32:64]\n",
        "\n",
        "kiri = ' '.join([left[i:i+8] for i in range(0, len(left), 8)])\n",
        "print(\"Kiri: \" + kiri)\n",
        "\n",
        "kanan = ' '.join([right[i:i+8] for i in range(0, len(right), 8)])\n",
        "print(\"Kanan: \" + kanan)"
      ],
      "metadata": {
        "colab": {
          "base_uri": "https://localhost:8080/"
        },
        "id": "pZEv7ypTQ3g6",
        "outputId": "9d6a35eb-01ce-451f-db6b-4924d20392fd"
      },
      "execution_count": null,
      "outputs": [
        {
          "output_type": "stream",
          "name": "stdout",
          "text": [
            "Kiri: 11110100 11110110 11010101 01010100\n",
            "Kanan: 11000100 00011001 01100000 10100001\n"
          ]
        }
      ]
    },
    {
      "cell_type": "markdown",
      "source": [
        "**proses dekripsi dengan menggunakan DES (untuk proses dekripsi sama seperti enkripsi, oleh karena itu tidak dipecah dan yang membedakan pada proses dekripsi yaitu hanya kunci yang digunakan)**"
      ],
      "metadata": {
        "id": "U5oLjegyv9UF"
      }
    },
    {
      "cell_type": "code",
      "source": [
        "# melakukan proses dekripsi, right expanded yaitu variabel yang akan menampung hasil proses ekspansi bit yang nantinya akan digunakan hingga proses xor bit kiri\n",
        "right_expanded = \"\"\n",
        "for i in range(16):\n",
        "    # melakukan proses ekspansi pada pesan bit kanan\n",
        "    permutation = \"\"\n",
        "    # untuk proses yang dilakukan masih sama yaitu mencari bit sesuai dengan tabel ekspansi yang sudah dibuat\n",
        "    for j in range(0, 48):\n",
        "        permutation = permutation + right[exp_d[j] - 1]\n",
        "    right_expanded = permutation\n",
        "    print(\"ekspansi ke-\" + str(i) + \" : \" + right_expanded)\n",
        "\n",
        "    # melakukan proses xor pada hasil ekspansi dengan hasil proses permutasi dengan PC-2\n",
        "    xor_x = \"\"\n",
        "    for j in range(48):\n",
        "        # cara kerjanya yaitu jika kedua nilai sama maka 0 dan jika kedua nilai ada perbedaan maka 1\n",
        "        if right_expanded[j] == rkb_rev[i][j]:\n",
        "            xor_x = xor_x + \"0\"\n",
        "        else:\n",
        "            xor_x = xor_x + \"1\"\n",
        "    print(\"XOR kanan putaran ke-\" + str(i) + \" : \" + xor_x)\n",
        "\n",
        "    # melakukan proses pencarian bit dgn menggunakan s-box pada hasil proses xor\n",
        "    sbox_str = \"\"\n",
        "    # cara kerjanya yaitu nanti akan mencari bit paling akhir dan awal untuk digabungkan dan sisa 4 bit tengah digabungkan\n",
        "    # setelah mendapatkann hal tersebut, maka melakukan proses pencarian sesuai dengan bit tadisesuai dengan tabel iterasi yang dilakukan\n",
        "    for j in range(0, 8):\n",
        "        row = int(xor_x[j * 6] + xor_x[j * 6 + 5], 2)\n",
        "        col = int(xor_x[j * 6 + 1:j * 6 + 5], 2)\n",
        "        val = sbox[j][row][col]\n",
        "        sbox_str = sbox_str + format(val, '04b')\n",
        "    print(\"Hasil xbox putaran ke-\" + str(i) + \" : \" + sbox_str)\n",
        "\n",
        "    # melakukan permutasi hasil s-box dengan P-box\n",
        "    sbox_str_permuted = \"\"\n",
        "    # cara kerjanya sama dengan permutasi yang sudah dilakukan yaitu mencari bit sesuai dengan tabel p-box\n",
        "    for j in range(32):\n",
        "        sbox_str_permuted = sbox_str_permuted + sbox_str[per[j] - 1]\n",
        "    print(\"Hasil P-box putaran ke-\" + str(i) + \" : \" + sbox_str_permuted)\n",
        "\n",
        "    # melakukan proses xor bit kiri dengan hasil p-box\n",
        "    result = \"\"\n",
        "    for j in range(32):\n",
        "        # cara kerjanya yaitu jika kedua nilai sama maka 0 dan jika kedua nilai ada perbedaan maka 1\n",
        "        if left[j] == sbox_str_permuted[j]:\n",
        "            result = result + \"0\"\n",
        "        else:\n",
        "            result = result + \"1\"\n",
        "    left = result\n",
        "    print(\"XOR kiri putaran ke-\" + str(i) + \" : \" + result)\n",
        "\n",
        "    # proses swapping dari bit kiri dan kanan\n",
        "    if i != 15:\n",
        "        left, right = right, left\n",
        "    print(\"Round\", i + 1, left, right, rkb_rev[i])\n",
        "    print(\"\\n\")\n",
        "\n",
        "# menggabungkan nilai hasil enkripsi pesan bit kiri dan kanan\n",
        "combine = left + right\n",
        "\n",
        "# melakukan proses permutasi lagi dengan menggunakan tabel invers permutasi\n",
        "decrypt_text = \"\"\n",
        "for j in range(64):\n",
        "    decrypt_text = decrypt_text + combine[final_perm[j] - 1]\n",
        "\n",
        "print(\"Decrypt Text:\", decrypt_text)"
      ],
      "metadata": {
        "colab": {
          "base_uri": "https://localhost:8080/"
        },
        "id": "3OKQmZFwQ5rR",
        "outputId": "ee121dc8-fb90-440f-eff5-e27e18d5cf74"
      },
      "execution_count": null,
      "outputs": [
        {
          "output_type": "stream",
          "name": "stdout",
          "text": [
            "ekspansi ke-0 : 110000000111110101011101011100000011110011110111\n",
            "XOR kanan putaran ke-0 : 110110110111111110110010100011000100110010000101\n",
            "Hasil xbox putaran ke-0 : 01111100011100011000101011111101\n",
            "Hasil P-box putaran ke-0 : 10011111001110011000111000110111\n",
            "XOR kiri putaran ke-0 : 00110001111100101000100111100011\n",
            "Round 1 10000011101011101110000110011011 00110001111100101000100111100011 000110110000001011101111111111000111000001110010\n",
            "\n",
            "\n",
            "ekspansi ke-1 : 100110100011111110100101010001010011111100000110\n",
            "XOR kanan putaran ke-1 : 010100010000001000101110010010110010100011110011\n",
            "Hasil xbox putaran ke-1 : 01101001011011010101000010111100\n",
            "Hasil P-box putaran ke-1 : 10101010000011011101011001100101\n",
            "XOR kiri putaran ke-1 : 00101001101000110011011111111110\n",
            "Round 2 00110001111100101000100111100011 00101001101000110011011111111110 110010110011110110001011000011100001011111110101\n",
            "\n",
            "\n",
            "ekspansi ke-2 : 000101010011110100000110100110101111111111111100\n",
            "XOR kanan putaran ke-2 : 001110101101001000101111000111010010001001110011\n",
            "Hasil xbox putaran ke-2 : 10000100011010001100110101001100\n",
            "Hasil P-box putaran ke-2 : 00011001100101010010000001111100\n",
            "XOR kiri putaran ke-2 : 00101000011001111010100110011111\n",
            "Round 3 00101001101000110011011111111110 00101000011001111010100110011111 001011111110111100101001100001111101110110001111\n",
            "\n",
            "\n",
            "ekspansi ke-3 : 100101010000001100001111110101010011110011111110\n",
            "XOR kanan putaran ke-3 : 010110110110101001010100101111101011110000000001\n",
            "Hasil xbox putaran ke-3 : 11000110011010001101010110100001\n",
            "Hasil P-box putaran ke-3 : 01100001100001011010110001011101\n",
            "XOR kiri putaran ke-3 : 01001000001001101001101110100011\n",
            "Round 4 00101000011001111010100110011111 01001000001001101001101110100011 110011100110100101011011011010111000000011111111\n",
            "\n",
            "\n",
            "ekspansi ke-4 : 101001010000000100001101010011110111110100000110\n",
            "XOR kanan putaran ke-4 : 101010111101110001110001001010100000000111010011\n",
            "Hasil xbox putaran ke-4 : 01101110010010011010100101110101\n",
            "Hasil P-box putaran ke-4 : 11010011000110011010111011110000\n",
            "XOR kiri putaran ke-4 : 11111011011111100000011101101111\n",
            "Round 5 01001000001001101001101110100011 11111011011111100000011101101111 000011101101110101111100011001010111110011010101\n",
            "\n",
            "\n",
            "ekspansi ke-5 : 111111110110101111111100000000001110101101011111\n",
            "XOR kanan putaran ke-5 : 100100010001100110100100000011010100001011100001\n",
            "Hasil xbox putaran ke-5 : 11101100100110011011001110010010\n",
            "Hasil P-box putaran ke-5 : 10100111101010101010001111010001\n",
            "XOR kiri putaran ke-5 : 11101111100011000011100001110010\n",
            "Round 6 11111011011111100000011101101111 11101111100011000011100001110010 011011100111001001011000000011011010100110111110\n",
            "\n",
            "\n",
            "ekspansi ke-6 : 011101011111110001011000000111110000001110100101\n",
            "XOR kanan putaran ke-6 : 110010111110001000000110011011000001111011010011\n",
            "Hasil xbox putaran ke-6 : 11001111011000111001101000100101\n",
            "Hasil P-box putaran ke-6 : 11110001111010011100110000110100\n",
            "XOR kiri putaran ke-6 : 00001010100101111100101101011011\n",
            "Round 7 11101111100011000011100001110010 00001010100101111100101101011011 101111100001111001011110011100110001110101110110\n",
            "\n",
            "\n",
            "ekspansi ke-7 : 100001010101010010101111111001010110101011110110\n",
            "XOR kanan putaran ke-7 : 001010111110011000011101110100101101000011001111\n",
            "Hasil xbox putaran ke-7 : 11111111101111101100111100000100\n",
            "Hasil P-box putaran ke-7 : 01010101111011001111001101111110\n",
            "XOR kiri putaran ke-7 : 10111010011000001100101100001100\n",
            "Round 8 00001010100101111100101101011011 10111010011000001100101100001100 101011101011001010110010001101111011101000111001\n",
            "\n",
            "\n",
            "ekspansi ke-8 : 010111110100001100000001011001010110100001011001\n",
            "XOR kanan putaran ke-8 : 101111111001100011101010100010001000111111011000\n",
            "Hasil xbox putaran ke-8 : 01110000101010110010100111000101\n",
            "Hasil P-box putaran ke-8 : 10010000010100001010101111100111\n",
            "XOR kiri putaran ke-8 : 10011010110001110110000010111100\n",
            "Round 9 10111010011000001100101100001100 10011010110001110110000010111100 111000001101101111101011111011011110011110000001\n",
            "\n",
            "\n",
            "ekspansi ke-9 : 010011110101011000001110101100000001010111111001\n",
            "XOR kanan putaran ke-9 : 100101101000000101101100001110111111000100101111\n",
            "Hasil xbox putaran ke-9 : 10001010000001110110110100101101\n",
            "Hasil P-box putaran ke-9 : 11011000110011000011110010101000\n",
            "XOR kiri putaran ke-9 : 01100010101011001111011110100100\n",
            "Round 10 10011010110001110110000010111100 01100010101011001111011110100100 110110011101011101100010100010111110010011010110\n",
            "\n",
            "\n",
            "ekspansi ke-10 : 001100000101010101011001011110101111110100001000\n",
            "XOR kanan putaran ke-10 : 111100101010001110110100010001100011000001011101\n",
            "Hasil xbox putaran ke-10 : 01010100010100110101001111011001\n",
            "Hasil P-box putaran ke-10 : 10101110011101011010100000010011\n",
            "XOR kiri putaran ke-10 : 00110100101100101100100010101111\n",
            "Round 11 01100010101011001111011110100100 00110100101100101100100010101111 110000101111011011101101001111001100110101010101\n",
            "\n",
            "\n",
            "ekspansi ke-11 : 100110101001010110100101011001010001010101011110\n",
            "XOR kanan putaran ke-11 : 010101111010101011000001011110101111101110111100\n",
            "Hasil xbox putaran ke-11 : 11000011100111011001101011100101\n",
            "Hasil P-box putaran ke-11 : 11110101101100001101110101100001\n",
            "XOR kiri putaran ke-11 : 10010111000111000010101011000101\n",
            "Round 12 00110100101100101100100010101111 10010111000111000010101011000101 110011010011111101100100000111111110111011100010\n",
            "\n",
            "\n",
            "ekspansi ke-12 : 110010101110100011111000000101010101011000001011\n",
            "XOR kanan putaran ke-12 : 010110001001011011001101101110001100000001111100\n",
            "Hasil xbox putaran ke-12 : 11001111101100001000011011010101\n",
            "Hasil P-box putaran ke-12 : 01000111101110001100100100111101\n",
            "XOR kiri putaran ke-12 : 01110011000010100000000110010010\n",
            "Round 13 10010111000111000010101011000101 01110011000010100000000110010010 100100100111111000110101101011011001011001110111\n",
            "\n",
            "\n",
            "ekspansi ke-13 : 001110100110100001010100000000000011110010100100\n",
            "XOR kanan putaran ke-13 : 101011100100001110111000101101001000000001111110\n",
            "Hasil xbox putaran ke-13 : 10010111010101010010100111011000\n",
            "Hasil P-box putaran ke-13 : 11011110100100010111000010010011\n",
            "XOR kiri putaran ke-13 : 01001001100011010101101001010110\n",
            "Round 14 01110011000010100000000110010010 01001001100011010101101001010110 100101000010101111101100101101001011110011011010\n",
            "\n",
            "\n",
            "ekspansi ke-14 : 001001010011110001011010101011110100001010101100\n",
            "XOR kanan putaran ke-14 : 100111000110010011100110110010101010100011000010\n",
            "Hasil xbox putaran ke-14 : 00101110100000001001100010110010\n",
            "Hasil P-box putaran ke-14 : 01110011000010100000011100010001\n",
            "XOR kiri putaran ke-14 : 00000000000000000000011010000011\n",
            "Round 15 01001001100011010101101001010110 00000000000000000000011010000011 101110010101100010111100011001011110101001101110\n",
            "\n",
            "\n",
            "ekspansi ke-15 : 100000000000000000000000000000001101010000000110\n",
            "XOR kanan putaran ke-15 : 111110011010111011011001110110110001110111100011\n",
            "Hasil xbox putaran ke-15 : 00000000010100010101101111110001\n",
            "Hasil P-box putaran ke-15 : 10110110001101010010110000000001\n",
            "XOR kiri putaran ke-15 : 11111111101110000111011001010111\n",
            "Round 16 11111111101110000111011001010111 00000000000000000000011010000011 011110011010111011011001110110111100100111100101\n",
            "\n",
            "\n",
            "Decrypt Text: 0100001101001111010011010101000001010101010101000100010101010010\n"
          ]
        }
      ]
    },
    {
      "cell_type": "markdown",
      "source": [
        "**konversi biner menjadi teks**"
      ],
      "metadata": {
        "id": "XQBdC_fSwrol"
      }
    },
    {
      "cell_type": "code",
      "source": [
        "# separated_text merupakan variabel yang digunakan untuk melakukan proses pembagian menjadi per 8 bit\n",
        "separated_text = ' '.join([decrypt_text[i:i+8] for i in range(0, len(decrypt_text), 8)])\n",
        "print(\"Ciphertext: \" + separated_text)\n",
        "\n",
        "# binary_chuncks merupakan variabel untuk menampung hasil biner teks dan melakukan split\n",
        "binary_chunks = separated_text.split()\n",
        "\n",
        "# text merupakan variabel penampung untuk kata yang sudah di translate\n",
        "text = ''.join(chr(int(chunk, 2)) for chunk in binary_chunks)\n",
        "\n",
        "# menampilkan hasil translate yang telah dilakukan\n",
        "print(\"Translated Text:\", text)"
      ],
      "metadata": {
        "colab": {
          "base_uri": "https://localhost:8080/"
        },
        "id": "73gb06xpRASe",
        "outputId": "86a25feb-a87e-4ae5-c0af-d520c433411e"
      },
      "execution_count": null,
      "outputs": [
        {
          "output_type": "stream",
          "name": "stdout",
          "text": [
            "Ciphertext: 01000011 01001111 01001101 01010000 01010101 01010100 01000101 01010010\n",
            "Translated Text: COMPUTER\n"
          ]
        }
      ]
    }
  ]
}